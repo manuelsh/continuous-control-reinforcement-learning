{
 "cells": [
  {
   "cell_type": "markdown",
   "metadata": {},
   "source": [
    "# Continuous control\n",
    "## DDPG algorithm implementation\n",
    "\n",
    "---\n",
    "\n",
    "This self sufficient contains the whole code needed for an implementation of the DDPG reinforcement learning algorithm in the \"reacher environment\".\n",
    "\n",
    "We follow the implementation described in the paper \"Continuous control with reinforcement learning\": https://arxiv.org/abs/1509.02971"
   ]
  },
  {
   "cell_type": "code",
   "execution_count": 1,
   "metadata": {},
   "outputs": [],
   "source": [
    "from unityagents import UnityEnvironment\n",
    "import numpy as np\n",
    "import torch\n",
    "import torch.nn as nn\n",
    "import torch.nn.functional as F\n",
    "from torch.autograd import Variable\n",
    "from collections import namedtuple, deque\n",
    "import random\n",
    "from matplotlib import pyplot as plt\n",
    "import pickle\n",
    "from IPython import display\n",
    "import pylab as pl\n",
    "import copy\n",
    "import time\n",
    "\n",
    "%matplotlib inline\n",
    "\n",
    "device = torch.device(\"cuda:0\" if torch.cuda.is_available() else \"cpu\")"
   ]
  },
  {
   "cell_type": "markdown",
   "metadata": {},
   "source": [
    "Depending on which version of the environment you want to run, select one line or the other in the cell below:"
   ]
  },
  {
   "cell_type": "code",
   "execution_count": 2,
   "metadata": {},
   "outputs": [
    {
     "name": "stderr",
     "output_type": "stream",
     "text": [
      "INFO:unityagents:\n",
      "'Academy' started successfully!\n",
      "Unity Academy name: Academy\n",
      "        Number of Brains: 1\n",
      "        Number of External Brains : 1\n",
      "        Lesson number : 0\n",
      "        Reset Parameters :\n",
      "\t\tgoal_size -> 5.0\n",
      "\t\tgoal_speed -> 1.0\n",
      "Unity brain name: ReacherBrain\n",
      "        Number of Visual Observations (per agent): 0\n",
      "        Vector Observation space type: continuous\n",
      "        Vector Observation space size (per agent): 33\n",
      "        Number of stacked Vector Observation: 1\n",
      "        Vector Action space type: continuous\n",
      "        Vector Action space size (per agent): 4\n",
      "        Vector Action descriptions: , , , \n"
     ]
    }
   ],
   "source": [
    "# Select this option to load version 1 (with a single agent) of the environment\n",
    "# env = UnityEnvironment(file_name='/Users/manuelsh/code/deep-reinforcement-learning/p2_continuous-control/Reacher.app')\n",
    "\n",
    "# select this option to load version 2 (with 20 agents) of the environment\n",
    "env = UnityEnvironment(file_name='/Users/manuelsh/code/deep-reinforcement-learning/p2_continuous-control/Reacher 2.app')\n",
    "\n",
    "# Get the default brain\n",
    "brain_name = env.brain_names[0]\n",
    "brain = env.brains[brain_name]"
   ]
  },
  {
   "cell_type": "markdown",
   "metadata": {},
   "source": [
    "### Examine the State and Action Spaces\n",
    "\n",
    "Run the code cell below to print some information about the environment."
   ]
  },
  {
   "cell_type": "code",
   "execution_count": 3,
   "metadata": {},
   "outputs": [
    {
     "name": "stdout",
     "output_type": "stream",
     "text": [
      "Number of agents: 20\n",
      "Size of each action: 4\n",
      "There are 20 agents. Each observes a state with length: 33\n",
      "The state for the first agent looks like: [ 0.00000000e+00 -4.00000000e+00  0.00000000e+00  1.00000000e+00\n",
      " -0.00000000e+00 -0.00000000e+00 -4.37113883e-08  0.00000000e+00\n",
      "  0.00000000e+00  0.00000000e+00  0.00000000e+00  0.00000000e+00\n",
      "  0.00000000e+00  0.00000000e+00 -1.00000000e+01  0.00000000e+00\n",
      "  1.00000000e+00 -0.00000000e+00 -0.00000000e+00 -4.37113883e-08\n",
      "  0.00000000e+00  0.00000000e+00  0.00000000e+00  0.00000000e+00\n",
      "  0.00000000e+00  0.00000000e+00  5.75471878e+00 -1.00000000e+00\n",
      "  5.55726624e+00  0.00000000e+00  1.00000000e+00  0.00000000e+00\n",
      " -1.68164849e-01]\n"
     ]
    }
   ],
   "source": [
    "# reset the environment\n",
    "env_info = env.reset(train_mode=True)[brain_name]\n",
    "\n",
    "# number of agents\n",
    "num_agents = len(env_info.agents)\n",
    "print('Number of agents:', num_agents)\n",
    "\n",
    "# size of each action\n",
    "action_size = brain.vector_action_space_size\n",
    "print('Size of each action:', action_size)\n",
    "\n",
    "# examine the state space \n",
    "states = env_info.vector_observations\n",
    "state_size = states.shape[1]\n",
    "print('There are {} agents. Each observes a state with length: {}'.format(states.shape[0], state_size))\n",
    "print('The state for the first agent looks like:', states[0])"
   ]
  },
  {
   "cell_type": "markdown",
   "metadata": {},
   "source": [
    "### Implementation of relevant classes\n",
    "In the following cells we implement the ReplayBuffer class (coming from the Udacity repo), Ornstein Uhlenbeck noise generation, soft-update function (which updates the parameters of the target function) and the classes for the actor (`DeterministicPolicy`) and the critic (`QFunction`)."
   ]
  },
  {
   "cell_type": "code",
   "execution_count": 4,
   "metadata": {},
   "outputs": [],
   "source": [
    "class ReplayBuffer:\n",
    "    \"\"\"Fixed-size buffer to store experience tuples.\"\"\"\n",
    "\n",
    "    def __init__(self, action_size, buffer_size, batch_size, seed):\n",
    "        \"\"\"Initialize a ReplayBuffer object.\n",
    "\n",
    "        Params\n",
    "        ======\n",
    "            action_size (int): dimension of each action\n",
    "            buffer_size (int): maximum size of buffer\n",
    "            batch_size (int): size of each training batch\n",
    "            seed (int): random seed\n",
    "        \"\"\"\n",
    "        self.action_size = action_size\n",
    "        self.memory = deque(maxlen=buffer_size)  \n",
    "        self.batch_size = batch_size\n",
    "        self.experience = namedtuple(\"Experience\", field_names=[\"state\", \"action\", \"reward\", \"next_state\", \"done\"])\n",
    "        self.seed = random.seed(seed)\n",
    "    \n",
    "    def add(self, state, action, reward, next_state, done):\n",
    "        \"\"\"Add a new experience to memory.\"\"\"\n",
    "        for state, action, reward, next_state, done in zip(states, actions, rewards, next_states, dones):\n",
    "            e = self.experience(state, action, reward, next_state, done)\n",
    "            self.memory.append(e)\n",
    "    \n",
    "    def sample(self):\n",
    "        \"\"\"Randomly sample a batch of experiences from memory.\"\"\"\n",
    "        experiences = random.sample(self.memory, k=self.batch_size)\n",
    "\n",
    "        states = torch.from_numpy(np.vstack([e.state for e in experiences if e is not None])).float().to(device)\n",
    "        actions = torch.from_numpy(np.vstack([e.action for e in experiences if e is not None])).float().to(device)\n",
    "        rewards = torch.from_numpy(np.vstack([e.reward for e in experiences if e is not None])).float().to(device)\n",
    "        next_states = torch.from_numpy(np.vstack([e.next_state for e in experiences if e is not None])).float().to(device)\n",
    "        dones = torch.from_numpy(np.vstack([e.done for e in experiences if e is not None]).astype(np.uint8)).float().to(device)\n",
    "  \n",
    "        return (states, actions, rewards, next_states, dones)\n",
    "\n",
    "    def __len__(self):\n",
    "        \"\"\"Return the current size of internal memory.\"\"\"\n",
    "\n",
    "class RandomProcess():\n",
    "    def __init__(self, num_agents, action_size, decay_rate, multiplier):\n",
    "        self.num_agents = num_agents\n",
    "        self.action_size = action_size\n",
    "        self.decay_rate = decay_rate\n",
    "        self.multiplier = multiplier\n",
    "    \n",
    "    def sample(self):\n",
    "        self.multiplier *= self.decay_rate\n",
    "        return (np.random.randn(num_agents, action_size) * self.multiplier)[0]"
   ]
  },
  {
   "cell_type": "code",
   "execution_count": 5,
   "metadata": {},
   "outputs": [],
   "source": [
    "class OUNoise:\n",
    "    \"\"\"Ornstein-Uhlenbeck process.\"\"\"\n",
    "\n",
    "    def __init__(self, size, seed, mu=0., theta=0.15, sigma=0.2, num_agents=num_agents, num_actions=action_size):\n",
    "        \"\"\"Initialize parameters and noise process.\"\"\"\n",
    "        self.mu = mu * np.ones(size)\n",
    "        self.theta = theta\n",
    "        self.sigma = sigma\n",
    "        self.seed = random.seed(seed)\n",
    "        self.num_agents=num_agents\n",
    "        self.num_actions=num_actions\n",
    "        self.reset()\n",
    "\n",
    "    def reset(self):\n",
    "        \"\"\"Reset the internal state (= noise) to mean (mu).\"\"\"\n",
    "        self.state = copy.copy(self.mu)\n",
    "\n",
    "    def sample(self):\n",
    "        \"\"\"Update internal state and return it as a noise sample.\"\"\"\n",
    "        x = self.state\n",
    "        dx = self.theta * (self.mu - x) + self.sigma * np.array([random.random() for i in range(len(x))])\n",
    "        self.state = x + dx\n",
    "        return self.state.reshape(self.num_agents,self.num_actions)"
   ]
  },
  {
   "cell_type": "code",
   "execution_count": 6,
   "metadata": {},
   "outputs": [],
   "source": [
    "def soft_update(local_model, target_model, tau):\n",
    "        \"\"\"Soft update model parameters.\n",
    "        θ_target = τ*θ_local + (1 - τ)*θ_target\n",
    "\n",
    "        Params\n",
    "        ======\n",
    "            local_model (PyTorch model): weights will be copied from\n",
    "            target_model (PyTorch model): weights will be copied to\n",
    "            tau (float): interpolation parameter \n",
    "        \"\"\"\n",
    "        for target_param, local_param in zip(target_model.parameters(), local_model.parameters()):\n",
    "            target_param.data.copy_(tau*local_param.data + (1.0-tau)*target_param.data)\n"
   ]
  },
  {
   "cell_type": "code",
   "execution_count": 7,
   "metadata": {},
   "outputs": [],
   "source": [
    "class QFunction(nn.Module):\n",
    "    def __init__(self, state_dim, actions_dim, hidden_units=(400, 300), activation=F.relu):\n",
    "        super(QFunction, self).__init__()\n",
    "        dims = (state_dim + actions_dim, ) + hidden_units + (1, )\n",
    "        self.layers = nn.ModuleList(\n",
    "            [nn.Linear(dim_in, dim_out) for dim_in, dim_out in zip(dims[:-1], dims[1:])])\n",
    "        self.activation = activation      \n",
    "        \n",
    "    def forward(self, state, action):\n",
    "        x = torch.cat([state, action], dim=1)\n",
    "        for layer in self.layers[:-1]:\n",
    "            x = self.activation(layer(x))\n",
    "        return self.layers[-1](x)"
   ]
  },
  {
   "cell_type": "code",
   "execution_count": 8,
   "metadata": {},
   "outputs": [],
   "source": [
    "class DeterministicPolicy(nn.Module):\n",
    "    def __init__(self, state_dim, actions_dim, hidden_units=(400, 300) , activation=F.relu):\n",
    "        super(DeterministicPolicy, self).__init__()\n",
    "        dims = (state_dim,) + hidden_units +(actions_dim,)\n",
    "        self.layers = nn.ModuleList(\n",
    "            [nn.Linear(dim_in, dim_out) for dim_in, dim_out in zip(dims[:-1], dims[1:])])\n",
    "        self.activation = activation      \n",
    "        \n",
    "    def forward(self, state):\n",
    "        x = state\n",
    "        for layer in self.layers[:-1]:\n",
    "            x = self.activation(layer(x))\n",
    "        return F.tanh( self.layers[-1](x) )"
   ]
  },
  {
   "cell_type": "code",
   "execution_count": 9,
   "metadata": {},
   "outputs": [],
   "source": [
    "def watch_env():\n",
    "    time.sleep(0.1)\n",
    "    env_info = env.reset(train_mode=False)[brain_name]      # reset the environment    \n",
    "    states = env_info.vector_observations                  # get the current state (for each agent)\n",
    "    scores = np.zeros(num_agents)                          # initialize the score (for each agent)\n",
    "    noise.reset()\n",
    "    noise_sample = noise.sample()\n",
    "    states = np.append(states, noise_sample, 1)\n",
    "    for i in range(t_max):\n",
    "        states, actions, rewards, next_states, dones, next_noise = perform_an_action(states, noise_sample)\n",
    "        scores += rewards                         # update the score (for each agent)\n",
    "        states = next_states                               # roll over states to next time step\n",
    "        time.sleep(0.01)\n",
    "        if np.any(dones):                                  # exit loop if episode finished\n",
    "            break\n",
    "    print('Total score (averaged over agents) this episode: {}'.format(np.mean(scores)))"
   ]
  },
  {
   "cell_type": "code",
   "execution_count": 10,
   "metadata": {},
   "outputs": [],
   "source": [
    "def perform_an_action(states, noise_sample):\n",
    "        # perform an action and add its information to the replay buffer\n",
    "        states_tensor = torch.FloatTensor(states).to(device)\n",
    "        actions = agent(states_tensor).detach().cpu().numpy() + noise_factor*noise_sample\n",
    "        env_info = env.step(actions)[brain_name]\n",
    "        next_noise = noise.sample()*noise_factor\n",
    "        next_states = np.append(env_info.vector_observations, next_noise,1)        \n",
    "        rewards = env_info.rewards                         \n",
    "        dones = env_info.local_done\n",
    "        return states, actions, rewards, next_states, dones, next_noise      "
   ]
  },
  {
   "cell_type": "markdown",
   "metadata": {},
   "source": [
    "### Parameters, instantiation and training loop"
   ]
  },
  {
   "cell_type": "code",
   "execution_count": 11,
   "metadata": {},
   "outputs": [],
   "source": [
    "# Main parameters:\n",
    "\n",
    "BUFFER_SIZE = int(1e5)\n",
    "BATCH_SIZE = 256      \n",
    "\n",
    "gamma = 0.99\n",
    "tau = 0.001\n",
    "lr_critic = 1E-3\n",
    "lr_agent = 1E-3\n",
    "update_steps = 20\n",
    "num_updates = 10\n",
    "noise_factor = 1\n",
    "t_max = 100\n",
    "\n",
    "# Instantiation\n",
    "critic = QFunction(state_size+action_size, action_size).to(device)\n",
    "agent = DeterministicPolicy(state_size+action_size, action_size).to(device)\n",
    "\n",
    "critic_target = QFunction(state_size+action_size, action_size).to(device)\n",
    "agent_target = DeterministicPolicy(state_size+action_size, action_size).to(device)\n",
    "\n",
    "critic_target.load_state_dict(critic.state_dict())\n",
    "agent_target.load_state_dict(agent.state_dict())\n",
    "\n",
    "replay_buffer = ReplayBuffer(action_size=action_size, buffer_size=BUFFER_SIZE, batch_size=BATCH_SIZE, seed=88)\n",
    "\n",
    "critic_loss_function = torch.nn.MSELoss()\n",
    "critic_optimizer = torch.optim.Adam(critic.parameters(), lr=lr_critic)\n",
    "agent_optimizer = torch.optim.Adam(agent.parameters(), lr=lr_agent)\n",
    "\n",
    "noise = OUNoise(num_agents*action_size, 88)\n",
    "\n",
    "total_scores = []\n",
    "total_scores_queue = deque(maxlen=100)\n",
    "running_averages = []"
   ]
  },
  {
   "cell_type": "code",
   "execution_count": 12,
   "metadata": {
    "scrolled": false
   },
   "outputs": [
    {
     "data": {
      "image/png": "[encoded data removed]",
      "text/plain": [
       "<Figure size 864x360 with 1 Axes>"
      ]
     },
     "metadata": {},
     "output_type": "display_data"
    },
    {
     "name": "stdout",
     "output_type": "stream",
     "text": [
      "Running average episode 111: 30.228409324342387\n",
      "Problem solved at episode 111\n"
     ]
    },
    {
     "data": {
      "image/png": "[encoded data removed]",
      "text/plain": [
       "<Figure size 864x360 with 1 Axes>"
      ]
     },
     "metadata": {
      "needs_background": "light"
     },
     "output_type": "display_data"
    }
   ],
   "source": [
    "num_episodes = 2000\n",
    "step_counter = 0\n",
    "pl.figure(figsize=(12,5))\n",
    "for episode in range(num_episodes):\n",
    "    env_info = env.reset(train_mode=True)[brain_name]      # reset the environment    \n",
    "    states = env_info.vector_observations                  # get the current state (for each agent)\n",
    "    scores = np.zeros(num_agents)                          # initialize the score (for each agent)\n",
    "    noise.reset()\n",
    "    noise_sample = noise.sample()*noise_factor\n",
    "    states = np.append(states, noise_sample, 1)\n",
    "    while True:\n",
    "        states, actions, rewards, next_states, dones, next_noise = perform_an_action(states, noise_sample)\n",
    "        replay_buffer.add(state=states, \n",
    "                  action=actions, \n",
    "                  reward=rewards, \n",
    "                  next_state=next_states, \n",
    "                  done=dones)\n",
    "        scores += rewards                         # update the score (for each agent)\n",
    "        states = next_states                    # roll over states to next time step\n",
    "        \n",
    "        step_counter+=1\n",
    "        \n",
    "        if (len(replay_buffer.memory)>BATCH_SIZE) & (step_counter%update_steps==0) :\n",
    "            for i in range(num_updates):\n",
    "                # Train the critic\n",
    "                states_r, actions_r, rewards_r, next_states_r, dones_r = replay_buffer.sample()\n",
    "                #next_state_tensor = torch.FloatTensor(next_states)\n",
    "                y = rewards_r + \\\n",
    "                    gamma * critic_target(next_states_r, agent_target(next_states_r))\n",
    "                y=y.detach()\n",
    "                critic_loss_value = critic_loss_function(critic(states_r, actions_r), y)\n",
    "                critic_optimizer.zero_grad()\n",
    "                critic_loss_value.backward()\n",
    "                critic_optimizer.step()\n",
    "\n",
    "                # Train the agent\n",
    "                agent_loss_value = -critic(states_r, agent(states_r)).mean()\n",
    "                agent_optimizer.zero_grad()\n",
    "                agent_loss_value.backward()\n",
    "                agent_optimizer.step()\n",
    "\n",
    "                # Update parameters\n",
    "                soft_update(agent, agent_target, tau)\n",
    "                soft_update(critic, critic_target, tau)\n",
    "               \n",
    "        if np.any(dones):                                  # exit loop if episode finished\n",
    "            break\n",
    "            \n",
    "    #print('Total score (averaged over agents) this episode: {}'.format(np.mean(scores)))\n",
    "    total_scores.append(np.mean(scores))\n",
    "    total_scores_queue.append(np.mean(scores))\n",
    "    running_average = np.mean(total_scores_queue)\n",
    "    running_averages.append(running_average)\n",
    "    pickle.dump(total_scores, open('total_scores.pickle','wb'))\n",
    "    pickle.dump(running_average, open('running_average.pickle','wb'))\n",
    "    display.clear_output(wait=True)\n",
    "    pl.plot(total_scores, label='Episode score')\n",
    "    pl.plot(running_averages, label='Running average score, 100 episodes', linestyle='--')\n",
    "    display.display(pl.gcf())\n",
    "    print(f'Running average episode {len(total_scores)}: {running_average}')\n",
    "    if running_average>=30:\n",
    "        print(f'Problem solved at episode {len(total_scores)}')\n",
    "        break\n",
    "        \n",
    "    if len(total_scores)%25==0:\n",
    "        watch_env()"
   ]
  },
  {
   "cell_type": "markdown",
   "metadata": {},
   "source": [
    "### Saves parameters of model"
   ]
  },
  {
   "cell_type": "code",
   "execution_count": 14,
   "metadata": {},
   "outputs": [],
   "source": [
    "torch.save(agent.state_dict(), 'models-parameters/agent_reacher.torch')\n",
    "torch.save(critic.state_dict(), 'models-parameters/critic_reacher.torch')\n",
    "torch.save(agent_target.state_dict(), 'models-parameters/agent_target_reacher.torch')\n",
    "torch.save(critic_target.state_dict(), 'models-parameters/critic_target_reacher.torch')"
   ]
  },
  {
   "cell_type": "code",
   "execution_count": null,
   "metadata": {},
   "outputs": [],
   "source": []
  }
 ],
 "metadata": {
  "kernelspec": {
   "display_name": "drlnd",
   "language": "python",
   "name": "drlnd"
  },
  "language_info": {
   "codemirror_mode": {
    "name": "ipython",
    "version": 3
   },
   "file_extension": ".py",
   "mimetype": "text/x-python",
   "name": "python",
   "nbconvert_exporter": "python",
   "pygments_lexer": "ipython3",
   "version": "3.6.8"
  }
 },
 "nbformat": 4,
 "nbformat_minor": 2
}
